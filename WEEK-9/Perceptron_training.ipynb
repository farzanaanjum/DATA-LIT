{
  "nbformat": 4,
  "nbformat_minor": 0,
  "metadata": {
    "colab": {
      "name": "Perceptron training.ipynb",
      "version": "0.3.2",
      "provenance": []
    },
    "kernelspec": {
      "name": "python3",
      "display_name": "Python 3"
    }
  },
  "cells": [
    {
      "cell_type": "markdown",
      "metadata": {
        "id": "xzbUzIX0XpCb",
        "colab_type": "text"
      },
      "source": [
        "# Perceptron training handout\n"
      ]
    },
    {
      "cell_type": "code",
      "metadata": {
        "id": "OOmJUH13YMRH",
        "colab_type": "code",
        "colab": {}
      },
      "source": [
        "import numpy as np\n",
        "import pylab as pl\n",
        "from sklearn.datasets.samples_generator import make_blobs\n",
        "\n",
        "%matplotlib inline"
      ],
      "execution_count": 0,
      "outputs": []
    },
    {
      "cell_type": "code",
      "metadata": {
        "id": "1RWTipOVYSw5",
        "colab_type": "code",
        "colab": {}
      },
      "source": [
        "def plot_data(X, y):\n",
        "    y_unique = np.unique(y)\n",
        "    colors = pl.cm.rainbow(np.linspace(0.0, 1.0, y_unique.size))\n",
        "    for this_y, color in zip(y_unique, colors):\n",
        "        this_X = X[y == this_y]\n",
        "        pl.scatter(this_X[:, 0], this_X[:, 1],  c=color,\n",
        "                    alpha=0.5, edgecolor='k',\n",
        "                    label=\"Class %s\" % this_y)\n",
        "    pl.legend(loc=\"best\")\n",
        "    pl.title(\"Data\")\n",
        "    \n",
        "def plot_decision_region(X, pred_fun):\n",
        "    min_x = np.min(X[:, 0])\n",
        "    max_x = np.max(X[:, 0])\n",
        "    min_y = np.min(X[:, 1])\n",
        "    max_y = np.max(X[:, 1])\n",
        "    min_x = min_x - (max_x - min_x) * 0.05\n",
        "    max_x = max_x + (max_x - min_x) * 0.05\n",
        "    min_y = min_y - (max_y - min_y) * 0.05\n",
        "    max_y = max_y + (max_y - min_y) * 0.05\n",
        "    x_vals = np.linspace(min_x, max_x, 30)\n",
        "    y_vals = np.linspace(min_y, max_y, 30)\n",
        "    XX, YY = np.meshgrid(x_vals, y_vals)\n",
        "    grid_r, grid_c = XX.shape\n",
        "    ZZ = np.zeros((grid_r, grid_c))\n",
        "    for i in range(grid_r):\n",
        "        for j in range(grid_c):\n",
        "            ZZ[i, j] = pred_fun(XX[i, j], YY[i, j])\n",
        "    pl.contourf(XX, YY, ZZ, 30, cmap = pl.cm.coolwarm, vmin= -1, vmax=2)\n",
        "    pl.colorbar()\n",
        "    pl.xlabel(\"x\")\n",
        "    pl.ylabel(\"y\")"
      ],
      "execution_count": 0,
      "outputs": []
    },
    {
      "cell_type": "markdown",
      "metadata": {
        "id": "UVSBlce9YjEY",
        "colab_type": "text"
      },
      "source": [
        "## Two Class Classification Problem\n"
      ]
    },
    {
      "cell_type": "code",
      "metadata": {
        "id": "kSUjxCI5YkNs",
        "colab_type": "code",
        "outputId": "a6c4593c-736d-4954-b5f6-78cbc06a90ff",
        "colab": {
          "base_uri": "https://localhost:8080/",
          "height": 610
        }
      },
      "source": [
        "X, Y = make_blobs(n_samples=100, centers=2, n_features=2, random_state=0)\n",
        "pl.figure(figsize=(8, 6))\n",
        "plot_data(X, Y)\n",
        "print(X.shape)\n",
        "print(X[0:10])\n",
        "print(Y.shape)\n",
        "print(Y[0:10])"
      ],
      "execution_count": 0,
      "outputs": [
        {
          "output_type": "stream",
          "text": [
            "(100, 2)\n",
            "[[ 4.21850347  2.23419161]\n",
            " [ 0.90779887  0.45984362]\n",
            " [-0.27652528  5.08127768]\n",
            " [ 0.08848433  2.32299086]\n",
            " [ 3.24329731  1.21460627]\n",
            " [ 1.44193252  2.76754364]\n",
            " [ 1.0220286   4.11660348]\n",
            " [ 3.97820955  2.37817845]\n",
            " [ 0.58894326  4.00148458]\n",
            " [ 1.25185786  0.20811388]]\n",
            "(100,)\n",
            "[1 1 0 0 1 0 0 1 0 1]\n"
          ],
          "name": "stdout"
        },
        {
          "output_type": "display_data",
          "data": {
            "image/png": "[encoded data removed]",
            "text/plain": [
              "<matplotlib.figure.Figure at 0x7fcb209cb160>"
            ]
          },
          "metadata": {
            "tags": []
          }
        }
      ]
    },
    {
      "cell_type": "markdown",
      "metadata": {
        "id": "jkpR_rTAZ7Wr",
        "colab_type": "text"
      },
      "source": [
        "## How to solve it?\n",
        "\n",
        "* We need to design a prediction function $f:\\mathbb{R}^{2}\\rightarrow\\mathbb{R}$ such that:\n",
        "\n",
        "$$\\textrm{Prediction}(x)=\\begin{cases}\n",
        "C_{1} & \\mbox{si }f(x)\\ge \\theta\\\\\n",
        "C_{2} & \\mbox{si }f(x)<\\theta\n",
        "\\end{cases}$$\n",
        "\n",
        "* Here we will model $f$ as a logistic model with parameters $w$ and $w_0$:\n",
        "\n",
        "$$f_w(x) = P(C_1|x)= \\sigma(wx+w_0)$$\n",
        "\n",
        "where \n",
        "$$\\sigma(x) = \\frac{1}{1+e^{-x}}$$\n"
      ]
    },
    {
      "cell_type": "markdown",
      "metadata": {
        "id": "l7XeVNOdaSMv",
        "colab_type": "text"
      },
      "source": [
        "## Perceptron\n",
        "\n",
        "This model corresponds to a perceptron or logistic regression model\n",
        "\n",
        "$$f_w(x,y) = P(C_1|x)= \\sigma(wx+w_0)$$\n",
        "\n",
        "where \n",
        "$$\\sigma(x) = \\frac{1}{1+e^{-x}}$$\n"
      ]
    },
    {
      "cell_type": "code",
      "metadata": {
        "id": "7PwElqB7aYuW",
        "colab_type": "code",
        "colab": {}
      },
      "source": [
        "def sigmoid(x):\n",
        "    return 1.0/(1.0 + np.exp(-x))\n",
        "\n",
        "def predict(w, x):\n",
        "    a = np.dot(w[1:], x) + w[0]\n",
        "    z = sigmoid(a)\n",
        "    return z"
      ],
      "execution_count": 0,
      "outputs": []
    },
    {
      "cell_type": "code",
      "metadata": {
        "id": "YaoqDSNhae2D",
        "colab_type": "code",
        "outputId": "aa62bf47-efad-4ecb-caf1-8b36d6d2c6c3",
        "colab": {
          "base_uri": "https://localhost:8080/",
          "height": 282
        }
      },
      "source": [
        "x_plot = np.arange(-5,5,0.1)\n",
        "pl.plot(x_plot, sigmoid(x_plot))"
      ],
      "execution_count": 0,
      "outputs": [
        {
          "output_type": "execute_result",
          "data": {
            "text/plain": [
              "[<matplotlib.lines.Line2D at 0x7fcb1d3a64a8>]"
            ]
          },
          "metadata": {
            "tags": []
          },
          "execution_count": 6
        },
        {
          "output_type": "display_data",
          "data": {
            "image/png": "[encoded data removed]",
            "text/plain": [
              "<matplotlib.figure.Figure at 0x7fcb1f4aa940>"
            ]
          },
          "metadata": {
            "tags": []
          }
        }
      ]
    },
    {
      "cell_type": "markdown",
      "metadata": {
        "id": "pN7R_gn7dT9T",
        "colab_type": "text"
      },
      "source": [
        "## Learning as optimization\n",
        "\n",
        "* General optimization problem:\n",
        "$$\\min_{f\\in H}L(f,D)$$\n",
        "* Hypothesis space: \n",
        "$$H=\\{f_w(x,y)=\\sigma(wx+w_0),\\forall w\\in\\mathbb{R}^n and w_0\\in\\mathbb{R}\\}$$\n",
        "* Cross entropy loss function:\n",
        "$$L(f,D)=\\sum_{(x_{i},r_{i})\\in D} -r_i\\log(f(x_i)) -(1-r_i)\\log(1 - f(x_i))$$\n",
        "* Measures the likelihood of the the probabilistic model represented by $f$ given the data $D$.\n"
      ]
    },
    {
      "cell_type": "markdown",
      "metadata": {
        "id": "y-v-jEc8gGfA",
        "colab_type": "text"
      },
      "source": [
        "## Calculating the cross entropy loss"
      ]
    },
    {
      "cell_type": "code",
      "metadata": {
        "id": "6Z8oJztdgKEi",
        "colab_type": "code",
        "colab": {}
      },
      "source": [
        "def xentropy_loss(w, x, y):\n",
        "    return - y * np.log(predict(w, x)) - (1 - y) * np.log(1 - predict(w, x))\n",
        "\n",
        "def batch_loss(loss_fun, w, X, Y, ):\n",
        "    n = X.shape[0]\n",
        "    tot_loss = 0\n",
        "    for i in range(n):\n",
        "        tot_loss += loss_fun(w, X[i], Y[i])\n",
        "    return tot_loss"
      ],
      "execution_count": 0,
      "outputs": []
    },
    {
      "cell_type": "code",
      "metadata": {
        "id": "NENL4KJTg4TN",
        "colab_type": "code",
        "colab": {}
      },
      "source": [
        "def plot_loss(loss):\n",
        "    w1_vals = np.linspace(-2, 2, 30)\n",
        "    w2_vals = np.linspace(-2, 2, 30)\n",
        "    W1, W2 = np.meshgrid(w1_vals, w2_vals)\n",
        "    grid_r, grid_c = W1.shape\n",
        "    ZZ = np.zeros((grid_r, grid_c))\n",
        "    for i in range(grid_r):\n",
        "        for j in range(grid_c):\n",
        "            ZZ[i, j] = loss(W1[i, j], W2[i, j])\n",
        "    pl.contourf(W1, W2, ZZ,30, cmap = pl.cm.jet)\n",
        "    pl.colorbar()\n",
        "    pl.xlabel(\"w1\")\n",
        "    pl.ylabel(\"w2\")\n",
        "\n",
        "def bloss_xe(w1, w2):\n",
        "    w = np.array([1, w1, w2])\n",
        "    return batch_loss(xentropy_loss, w, X, Y)"
      ],
      "execution_count": 0,
      "outputs": []
    },
    {
      "cell_type": "code",
      "metadata": {
        "id": "YZXPAxBfhErm",
        "colab_type": "code",
        "outputId": "de463e21-b896-4e64-aaa1-3a376f17d410",
        "colab": {
          "base_uri": "https://localhost:8080/",
          "height": 283
        }
      },
      "source": [
        "plot_loss(bloss_xe)"
      ],
      "execution_count": 0,
      "outputs": [
        {
          "output_type": "display_data",
          "data": {
            "image/png": "[encoded data removed]",
            "text/plain": [
              "<matplotlib.figure.Figure at 0x7fcb1d36f9e8>"
            ]
          },
          "metadata": {
            "tags": []
          }
        }
      ]
    },
    {
      "cell_type": "markdown",
      "metadata": {
        "id": "hv1l7jDVh2Wr",
        "colab_type": "text"
      },
      "source": [
        "## Other loss fuctions\n",
        "\n",
        "* There are several different loss functions.\n",
        "\n",
        "* $L_1$ loss:\n",
        "\n",
        "$$ L_1(f, D) =\\sum_{(x_{i},r_{i})\\in D} |r_i - f(x_i)| $$\n",
        "\n",
        "* $L_2$ loss:\n",
        "\n",
        "$$ L_2(f, D) =\\sum_{(x_{i},r_{i})\\in D} (r_i - f(x_i))^2 $$"
      ]
    },
    {
      "cell_type": "code",
      "metadata": {
        "id": "-qPE83yViGg-",
        "colab_type": "code",
        "colab": {}
      },
      "source": [
        "def l1_loss(w, x, y):\n",
        "    return np.abs(y - predict(w, x))\n",
        "\n",
        "def loss1(w1, w2):\n",
        "    w = np.array([1, w1, w2])\n",
        "    return batch_loss(l1_loss, w, X, Y)\n",
        "\n",
        "def l2_loss(w, x, y):\n",
        "    return (y - predict(w, x)) ** 2 / 2\n",
        "\n",
        "def loss2(w1, w2):\n",
        "    w = np.array([1, w1, w2])\n",
        "    return batch_loss(l2_loss, w, X, Y)"
      ],
      "execution_count": 0,
      "outputs": []
    },
    {
      "cell_type": "code",
      "metadata": {
        "id": "ioiw3-mDiIs2",
        "colab_type": "code",
        "outputId": "10965c9a-3dbc-4848-8afb-051f4896b73d",
        "colab": {
          "base_uri": "https://localhost:8080/",
          "height": 349
        }
      },
      "source": [
        "pl.figure(figsize = (15,5))\n",
        "pl.subplot(1,3,1); plot_loss(bloss_xe); pl.title(\"XE loss\")\n",
        "pl.subplot(1,3,2); pl.title(\"L1 loss\"); plot_loss(loss1)\n",
        "pl.subplot(1,3,3); pl.title(\"L2 loss\"); plot_loss(loss2)"
      ],
      "execution_count": 0,
      "outputs": [
        {
          "output_type": "display_data",
          "data": {
            "image/png": "[encoded data removed]",
            "text/plain": [
              "<matplotlib.figure.Figure at 0x7fcb1d2d26a0>"
            ]
          },
          "metadata": {
            "tags": []
          }
        }
      ]
    },
    {
      "cell_type": "markdown",
      "metadata": {
        "id": "Yfjumj47iXCa",
        "colab_type": "text"
      },
      "source": [
        "## How to solve the learning problem? \n",
        "\n",
        "* There are different optimization strategies:\n",
        "  * Linear optimization\n",
        "  * Convex optimization\n",
        "  * Non-linear optimization\n",
        "  * Combinatorial optimization\n",
        "* No unique optimization strategy that works for all the problems: \"no free lunch theorem\""
      ]
    },
    {
      "cell_type": "markdown",
      "metadata": {
        "id": "8_ExLFU6kaMs",
        "colab_type": "text"
      },
      "source": [
        "## How to solve the learning problem?  (cont.)\n",
        "\n",
        "* Trade-offs:\n",
        "  * Global optimum guarantee\n",
        "  * Simplicity of the method\n",
        "  * Easy parameter tuning\n",
        "  * Scalability\n",
        "  * Potential parallelization\n",
        "* In machine learning preferences change over time.\n",
        "* Nowadays scalable, easy parallelizable strategies are preferred even at the expense of guaranteed optimality."
      ]
    },
    {
      "cell_type": "markdown",
      "metadata": {
        "id": "HX5XnStHkskt",
        "colab_type": "text"
      },
      "source": [
        "## Gradient descent\n",
        "<center> ![gradient descent image](https://cdn-images-1.medium.com/max/1600/1*f9a162GhpMbiTVTAua_lLQ.png)</center>"
      ]
    },
    {
      "cell_type": "markdown",
      "metadata": {
        "id": "3eD5iJGblDBa",
        "colab_type": "text"
      },
      "source": [
        "## Logistic regression gradient\n",
        "\n",
        "$$\n",
        "\\begin{aligned}L(f,D) & = \\sum_{(x_{i},r_{i})\\in D} -r_i\\log(f(x_i)) -(1-r_i)\\log(1 - f(x_i))\\\\\n",
        " & =\\sum_{(x_{i},r_{i})\\in D}E(w, x_i, r_i)\n",
        "\\end{aligned}\n",
        "$$\n",
        "If $f_w$ is the sigmoid function:\n",
        "$$\n",
        "\\frac{\\partial E(w,x_{i,}r_{i})}{\\partial w_i}=(f_{w}(x_{i})-r_{i})x_{i}\n",
        "$$\n"
      ]
    },
    {
      "cell_type": "code",
      "metadata": {
        "id": "RCZrGIEdl7cT",
        "colab_type": "code",
        "colab": {}
      },
      "source": [
        "def de_dw(w, x, r):\n",
        "    x_prime = np.zeros(len(x) + 1)\n",
        "    x_prime[1:] = x\n",
        "    x_prime[0] = 1\n",
        "    return (predict(w, x) - r) * x_prime"
      ],
      "execution_count": 0,
      "outputs": []
    },
    {
      "cell_type": "markdown",
      "metadata": {
        "id": "wdNLQm6imaab",
        "colab_type": "text"
      },
      "source": [
        "## Checking the gradient calculation\n",
        "\n",
        "*\"During the last twenty years, I have often been approached for advice in setting the learning rates of some rebellious stochastic gradient descent program. My advice is to forget about the learning rates and check that the gradients are computed correctly.\"* \n",
        "\n",
        "**Bottou, L.** (2012). *Stochastic gradient descent tricks*. In Neural networks: Tricks of the trade (pp. 421-436). Springer Berlin Heidelberg."
      ]
    },
    {
      "cell_type": "code",
      "metadata": {
        "id": "PeXZTKWUndUq",
        "colab_type": "code",
        "colab": {}
      },
      "source": [
        "def num_de_dw(w, x, y, epsilon):\n",
        "    deltas = np.identity(len(w)) * epsilon\n",
        "    de = np.zeros(len(w))\n",
        "    for i in range(len(w)):\n",
        "        de[i] = (xentropy_loss(w + deltas[i, :], x, y) - xentropy_loss(w - deltas[i, :], x, y)) / (2 * epsilon)\n",
        "    return de\n",
        "\n",
        "def test_de_dw():\n",
        "    num_tests = 100\n",
        "    epsilon = 0.0001\n",
        "    for i in range(num_tests):\n",
        "        tw = np.random.randn(3)\n",
        "        tx = np.random.randn(2)\n",
        "        ty = np.random.randn(1)\n",
        "        if np.linalg.norm(de_dw(tw, tx,ty) - num_de_dw(tw, tx, ty, epsilon)) > epsilon:\n",
        "            raise Exception(\"de_dw test failed!\")"
      ],
      "execution_count": 0,
      "outputs": []
    },
    {
      "cell_type": "code",
      "metadata": {
        "id": "UUHCjGSpnswS",
        "colab_type": "code",
        "colab": {}
      },
      "source": [
        "test_de_dw()"
      ],
      "execution_count": 0,
      "outputs": []
    },
    {
      "cell_type": "markdown",
      "metadata": {
        "id": "a5uyeY6CoEpz",
        "colab_type": "text"
      },
      "source": [
        "## Batch gradient descent"
      ]
    },
    {
      "cell_type": "code",
      "metadata": {
        "id": "TXdzLRIDoH5h",
        "colab_type": "code",
        "colab": {}
      },
      "source": [
        "def batch_gd(X, Y, epochs, eta, w_ini):\n",
        "    losses = []\n",
        "    w = w_ini\n",
        "    n = X.shape[0]\n",
        "    for i in range(epochs):\n",
        "        delta = np.zeros(len(w))\n",
        "        for j in range(n):\n",
        "            delta += de_dw(w, X[j], Y[j])\n",
        "        w = w - eta * delta\n",
        "        losses.append(batch_loss(xentropy_loss,w, X, Y))\n",
        "    return w, losses"
      ],
      "execution_count": 0,
      "outputs": []
    },
    {
      "cell_type": "code",
      "metadata": {
        "id": "HNwPKF98o6rM",
        "colab_type": "code",
        "outputId": "19aa5af4-5438-4980-cfc4-dcfa238cf9d3",
        "colab": {
          "base_uri": "https://localhost:8080/",
          "height": 355
        }
      },
      "source": [
        "w, losses = batch_gd(X, Y, 50, 0.01, np.array([0, 0, 0]))\n",
        "pl.figure(figsize = (8,16/3))\n",
        "pl.plot(losses)"
      ],
      "execution_count": 0,
      "outputs": [
        {
          "output_type": "execute_result",
          "data": {
            "text/plain": [
              "[<matplotlib.lines.Line2D at 0x7fcb1d28c9b0>]"
            ]
          },
          "metadata": {
            "tags": []
          },
          "execution_count": 16
        },
        {
          "output_type": "display_data",
          "data": {
            "image/png": "[encoded data removed]",
            "text/plain": [
              "<matplotlib.figure.Figure at 0x7fcb3be3a8d0>"
            ]
          },
          "metadata": {
            "tags": []
          }
        }
      ]
    },
    {
      "cell_type": "markdown",
      "metadata": {
        "id": "zoJ56Sb2q-NX",
        "colab_type": "text"
      },
      "source": [
        "## Online (stochastic) gradient descent"
      ]
    },
    {
      "cell_type": "code",
      "metadata": {
        "id": "3cIN1Mlhq_wD",
        "colab_type": "code",
        "colab": {}
      },
      "source": [
        "def sgd(X, Y, epochs, eta, w_ini):\n",
        "    losses = []\n",
        "    w = w_ini\n",
        "    n = X.shape[0]\n",
        "    for i in range(epochs):\n",
        "        for j in range(n):\n",
        "            delta = de_dw(w, X[j], Y[j])\n",
        "            w = w - eta * delta\n",
        "        losses.append(batch_loss(xentropy_loss,w, X, Y))\n",
        "    return w, losses"
      ],
      "execution_count": 0,
      "outputs": []
    },
    {
      "cell_type": "code",
      "metadata": {
        "id": "byPC4fuBrl60",
        "colab_type": "code",
        "outputId": "8cdd0406-0860-463d-a6d0-b17f95b4bd68",
        "colab": {
          "base_uri": "https://localhost:8080/",
          "height": 369
        }
      },
      "source": [
        "lr = 0.01\n",
        "epochs = 500\n",
        "w1, losses_bt = batch_gd(X, Y, epochs, lr, np.array([0, 0, 0]))\n",
        "w2, losses_ol = sgd(X, Y, epochs, lr, np.array([0, 0, 0]))\n",
        "pl.figure(figsize = (8,16/3))\n",
        "pl.plot(np.arange(epochs), losses_ol, label=\"SGD\")\n",
        "pl.plot(np.arange(epochs), losses_bt, label=\"Batch\")\n",
        "pl.xlabel(\"Epoch\")\n",
        "pl.ylabel(\"Loss\")\n",
        "pl.legend()"
      ],
      "execution_count": 0,
      "outputs": [
        {
          "output_type": "execute_result",
          "data": {
            "text/plain": [
              "<matplotlib.legend.Legend at 0x7fcb1d44b0f0>"
            ]
          },
          "metadata": {
            "tags": []
          },
          "execution_count": 18
        },
        {
          "output_type": "display_data",
          "data": {
            "image/png": "[encoded data removed]",
            "text/plain": [
              "<matplotlib.figure.Figure at 0x7fcb1d1c3da0>"
            ]
          },
          "metadata": {
            "tags": []
          }
        }
      ]
    },
    {
      "cell_type": "code",
      "metadata": {
        "id": "bCUSdKVDr5IS",
        "colab_type": "code",
        "colab": {}
      },
      "source": [
        ""
      ],
      "execution_count": 0,
      "outputs": []
    }
  ]
}