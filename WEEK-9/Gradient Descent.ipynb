{
 "cells": [
  {
   "cell_type": "code",
   "execution_count": 9,
   "metadata": {},
   "outputs": [
    {
     "name": "stdout",
     "output_type": "stream",
     "text": [
      "Neural Network output:\n",
      "0.689974481128\n",
      "Amount of Error:\n",
      "0.189974481128\n",
      "Change in Weights:\n",
      "[ 0.47326129 -0.52673871  0.27326129  0.07326129]\n"
     ]
    }
   ],
   "source": [
    "import numpy as np\n",
    "\n",
    "def sigmoid(x):\n",
    " '''\n",
    " Calculate sigmoid\n",
    " '''\n",
    " return 1/(1+np.exp(-x))\n",
    "\n",
    "def sigmoid_prime(x):\n",
    " '''\n",
    " Derivative of the sigmoid function\n",
    " '''\n",
    " return sigmoid(x) * (1 - sigmoid(x))\n",
    "\n",
    "learnrate = 0.5\n",
    "x = np.array([1, 2, 3, 4])\n",
    "y = np.array(0.5)\n",
    "\n",
    "# Initial weights\n",
    "w = np.array([0.5, -0.5, 0.3, 0.1])\n",
    "\n",
    "### Calculate one gradient descent step for each weight\n",
    "### Note: Some steps have been consolidated, so there are\n",
    "### fewer variable names than in the above sample code\n",
    "\n",
    "# TODO: Calculate the node’s linear combination of inputs and weights\n",
    "h = np.dot(x, w) \n",
    "\n",
    "# TODO: Calculate output of neural network\n",
    "nn_output = sigmoid(h)\n",
    "\n",
    "# TODO: Calculate error of neural network\n",
    "error = nn_output-y\n",
    "\n",
    "# TODO: Calculate the error term\n",
    "# Remember, this requires the output gradient, which we haven’t\n",
    "# specifically added a variable for.\n",
    "error_term = (sigmoid_prime(h)/len(x))*learnrate\n",
    "\n",
    "# TODO: Calculate change in weights\n",
    "del_w = w-error_term\n",
    "\n",
    "print('Neural Network output:')\n",
    "print(nn_output)\n",
    "print('Amount of Error:')\n",
    "print(error)\n",
    "print('Change in Weights:')\n",
    "print(del_w)"
   ]
  }
 ],
 "metadata": {
  "kernelspec": {
   "display_name": "Python 3",
   "language": "python",
   "name": "python3"
  },
  "language_info": {
   "codemirror_mode": {
    "name": "ipython",
    "version": 3
   },
   "file_extension": ".py",
   "mimetype": "text/x-python",
   "name": "python",
   "nbconvert_exporter": "python",
   "pygments_lexer": "ipython3",
   "version": "3.6.3"
  }
 },
 "nbformat": 4,
 "nbformat_minor": 2
}
